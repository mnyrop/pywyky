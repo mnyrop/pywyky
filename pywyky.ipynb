{
 "cells": [
  {
   "cell_type": "code",
   "execution_count": 1,
   "metadata": {},
   "outputs": [],
   "source": [
    "import requests\n",
    "import random\n",
    "import urllib.parse\n",
    "from tqdm import tqdm\n",
    "from time import sleep\n",
    "import pandas as pd"
   ]
  },
  {
   "cell_type": "code",
   "execution_count": 2,
   "metadata": {},
   "outputs": [
    {
     "data": {
      "text/html": [
       "<div>\n",
       "<style scoped>\n",
       "    .dataframe tbody tr th:only-of-type {\n",
       "        vertical-align: middle;\n",
       "    }\n",
       "\n",
       "    .dataframe tbody tr th {\n",
       "        vertical-align: top;\n",
       "    }\n",
       "\n",
       "    .dataframe thead th {\n",
       "        text-align: right;\n",
       "    }\n",
       "</style>\n",
       "<table border=\"1\" class=\"dataframe\">\n",
       "  <thead>\n",
       "    <tr style=\"text-align: right;\">\n",
       "      <th></th>\n",
       "      <th>original_id</th>\n",
       "      <th>original_name</th>\n",
       "    </tr>\n",
       "  </thead>\n",
       "  <tbody>\n",
       "    <tr>\n",
       "      <th>0</th>\n",
       "      <td>1</td>\n",
       "      <td>KISSINGER, HENRY A</td>\n",
       "    </tr>\n",
       "    <tr>\n",
       "      <th>1</th>\n",
       "      <td>2</td>\n",
       "      <td>CARTER, JIMMY</td>\n",
       "    </tr>\n",
       "    <tr>\n",
       "      <th>2</th>\n",
       "      <td>3</td>\n",
       "      <td>VANCE, CYRUS R</td>\n",
       "    </tr>\n",
       "    <tr>\n",
       "      <th>3</th>\n",
       "      <td>4</td>\n",
       "      <td>FORD, GERALD R</td>\n",
       "    </tr>\n",
       "    <tr>\n",
       "      <th>4</th>\n",
       "      <td>5</td>\n",
       "      <td>SADAT, ANWAR</td>\n",
       "    </tr>\n",
       "  </tbody>\n",
       "</table>\n",
       "</div>"
      ],
      "text/plain": [
       "   original_id       original_name\n",
       "0            1  KISSINGER, HENRY A\n",
       "1            2       CARTER, JIMMY\n",
       "2            3      VANCE, CYRUS R\n",
       "3            4      FORD, GERALD R\n",
       "4            5        SADAT, ANWAR"
      ]
     },
     "execution_count": 2,
     "metadata": {},
     "output_type": "execute_result"
    }
   ],
   "source": [
    "names = pd.read_csv(\"foia_names.csv\", header='infer') \n",
    "names.head()"
   ]
  },
  {
   "cell_type": "code",
   "execution_count": 3,
   "metadata": {},
   "outputs": [],
   "source": [
    "uri_prefix = \"https://tools.wmflabs.org/wikidata-reconcile/?query=\"\n",
    "query_data = []"
   ]
  },
  {
   "cell_type": "code",
   "execution_count": null,
   "metadata": {},
   "outputs": [
    {
     "name": "stderr",
     "output_type": "stream",
     "text": [
      "  0%|          | 244/413422 [03:47<101:09:46,  1.13it/s]"
     ]
    }
   ],
   "source": [
    "for i in tqdm(range(len(names))):\n",
    "    n = random.uniform(0, 0.17)\n",
    "    sleep(n)\n",
    "    item = names.iloc[i]\n",
    "    request = uri_prefix + '{\"query\"%3A\"' + urllib.parse.quote_plus(item['original_name']) + '\"%2C\"type\"%3A\"Q5\"}'\n",
    "    response = requests.get(request).json()\n",
    "    match = {}\n",
    "    result = response.get('result')\n",
    "    \n",
    "    if len(result) > 0:\n",
    "        match_id = result[0].get('id', None)\n",
    "        match_name = result[0].get('name', None)\n",
    "        match_score = result[0].get('score', None)\n",
    "    else:\n",
    "        match_id = None\n",
    "        match_name = None\n",
    "        match_score = None\n",
    "    query_data.append({ \n",
    "        'original_id': item['original_id'], \n",
    "        'original_name': item['original_name'],\n",
    "        'match_id': match_id,\n",
    "        'match_name': match_name,\n",
    "        'match_score': match_score\n",
    "    })"
   ]
  },
  {
   "cell_type": "code",
   "execution_count": null,
   "metadata": {},
   "outputs": [],
   "source": [
    "query_df = pd.DataFrame(query_data)"
   ]
  },
  {
   "cell_type": "code",
   "execution_count": null,
   "metadata": {},
   "outputs": [],
   "source": [
    "query_df.head()"
   ]
  },
  {
   "cell_type": "code",
   "execution_count": null,
   "metadata": {},
   "outputs": [],
   "source": []
  }
 ],
 "metadata": {
  "kernelspec": {
   "display_name": "Python 3",
   "language": "python",
   "name": "python3"
  },
  "language_info": {
   "codemirror_mode": {
    "name": "ipython",
    "version": 3
   },
   "file_extension": ".py",
   "mimetype": "text/x-python",
   "name": "python",
   "nbconvert_exporter": "python",
   "pygments_lexer": "ipython3",
   "version": "3.7.0"
  }
 },
 "nbformat": 4,
 "nbformat_minor": 2
}
